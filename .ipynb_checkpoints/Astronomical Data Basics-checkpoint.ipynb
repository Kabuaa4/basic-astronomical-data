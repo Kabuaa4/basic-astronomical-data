{
 "cells": [
  {
   "cell_type": "markdown",
   "metadata": {},
   "source": [
    "# Basics of Astronomical Data Analysis\n",
    "\n",
    "## Storing Data\n",
    "\n",
    "All data is stored in a file format called FITS - Flexible Image Transport System.\n",
    "\n",
    "FITS files\n",
    "\n",
    "- contain extensions\n",
    "- minimal one extension called \"primary extension\" is important\n",
    "- Each extension contains\n",
    "    - header (key-value pairs)\n",
    "    - data (optional)\n",
    "\n",
    "Header describes the data.\n",
    "And data is well, the data.\n",
    "\n",
    "FITS can be used for storing all forms of data\n",
    "\n",
    "- tabular\n",
    "- image\n",
    "- spectra\n",
    "\n",
    "## Using Astropy to Read FITS File"
   ]
  },
  {
   "cell_type": "code",
   "execution_count": 3,
   "metadata": {},
   "outputs": [
    {
     "name": "stdout",
     "output_type": "stream",
     "text": [
      "Filename: example.fits\n",
      "No.    Name      Ver    Type      Cards   Dimensions   Format\n",
      "  0  PRIMARY       1 PrimaryHDU      71   (512, 512)   int16   \n"
     ]
    }
   ],
   "source": [
    "from astropy.io import fits\n",
    "\n",
    "hdulist = fits.open('example.fits')\n",
    "hdulist.info()"
   ]
  },
  {
   "cell_type": "markdown",
   "metadata": {},
   "source": [
    "So, what can you say about this FITS file?\n",
    "\n",
    "- Contains one extension\n",
    "- How many key-value pairs in the header? 71\n",
    "- Size of the data (512 x 512) (an image)\n",
    "\n",
    "Let's check the header."
   ]
  },
  {
   "cell_type": "code",
   "execution_count": 2,
   "metadata": {},
   "outputs": [
    {
     "data": {
      "text/plain": [
       "SIMPLE  =                    T / Fits standard                                  \n",
       "BITPIX  =                   16 / Bits per pixel                                 \n",
       "NAXIS   =                    2 / Number of axes                                 \n",
       "NAXIS1  =                  512 / Axis length                                    \n",
       "NAXIS2  =                  512 / Axis length                                    \n",
       "EXTEND  =                    F / File may contain extensions                    \n",
       "ORIGIN  = 'NOAO-IRAF FITS Image Kernel July 2003' / FITS file originator        \n",
       "DATE    = '2017-02-17T04:36:31' / Date FITS file was generated                  \n",
       "IRAF-TLM= '2017-02-17T04:36:31' / Time of last modification                     \n",
       "OBJECT  = 'm51  B  600s'       / Name of the object observed                    \n",
       "IRAF-MAX=           1.993600E4  /  DATA MAX                                     \n",
       "IRAF-MIN=          -1.000000E0  /  DATA MIN                                     \n",
       "CCDPICNO=                   53  /  ORIGINAL CCD PICTURE NUMBER                  \n",
       "ITIME   =                  600  /  REQUESTED INTEGRATION TIME (SECS)            \n",
       "TTIME   =                  600  /  TOTAL ELAPSED TIME (SECS)                    \n",
       "OTIME   =                  600  /  ACTUAL INTEGRATION TIME (SECS)               \n",
       "DATA-TYP= 'OBJECT (0)'          /  OBJECT,DARK,BIAS,ETC.                        \n",
       "DATE-OBS= '05/04/87'            /  DATE DD/MM/YY                                \n",
       "RA      = '13:29:24.00'         /  RIGHT ASCENSION                              \n",
       "DEC     = '47:15:34.00'         /  DECLINATION                                  \n",
       "EPOCH   =                 0.00  /  EPOCH OF RA AND DEC                          \n",
       "ZD      = '22:14:00.00'         /  ZENITH DISTANCE                              \n",
       "UT      = ' 9:27:27.00'         /  UNIVERSAL TIME                               \n",
       "ST      = '14:53:42.00'         /  SIDEREAL TIME                                \n",
       "CAM-ID  =                    1  /  CAMERA HEAD ID                               \n",
       "CAM-TEMP=              -106.22  /  CAMERA TEMPERATURE, DEG C                    \n",
       "DEW-TEMP=              -180.95  /  DEWAR TEMPRATURE, DEG C                      \n",
       "F1POS   =                    2  /  FILTER BOLT I POSITION                       \n",
       "F2POS   =                    0  /  FILTER BOLT II POSITION                      \n",
       "TVFILT  =                    0  /  TV FILTER                                    \n",
       "CMP-LAMP=                    0  /  COMPARISON LAMP                              \n",
       "TILT-POS=                    0  /  TILT POSITION                                \n",
       "BIAS-PIX=                    0  /                                               \n",
       "BI-FLAG =                    0  /  BIAS SUBTRACT FLAG                           \n",
       "BP-FLAG =                    0  /  BAD PIXEL FLAG                               \n",
       "CR-FLAG =                    0  /  BAD PIXEL FLAG                               \n",
       "DK-FLAG =                    0  /  DARK SUBTRACT FLAG                           \n",
       "FR-FLAG =                    0  /  FRINGE FLAG                                  \n",
       "FR-SCALE=                 0.00  /  FRINGE SCALING PARAMETER                     \n",
       "TRIM    = 'Apr 22 14:11 Trim image section is [3:510,3:510]'                    \n",
       "BT-FLAG = 'Apr 22 14:11 Overscan correction strip is [515:544,3:510]'           \n",
       "FF-FLAG = 'Apr 22 14:11 Flat field image is Flat1.imh with scale=183.9447'      \n",
       "CCDPROC = 'Apr 22 14:11 CCD processing done'                                    \n",
       "AIRMASS =    1.08015632629395   / AIRMASS                                       \n",
       "HISTORY 'KPNO-IRAF'                                                             \n",
       "HISTORY '24-04-87'                                                              \n",
       "HISTORY 'KPNO-IRAF'           /                                                 \n",
       "HISTORY '08-04-92'            /                                                 \n",
       "                                                                                \n",
       "                                                                                \n",
       "                                                                                \n",
       "                                                                                \n",
       "                                                                                \n",
       "                                                                                \n",
       "                                                                                \n",
       "                                                                                \n",
       "                                                                                \n",
       "                                                                                \n",
       "                                                                                \n",
       "                                                                                \n",
       "                                                                                \n",
       "                                                                                \n",
       "                                                                                \n",
       "                                                                                \n",
       "                                                                                \n",
       "                                                                                \n",
       "                                                                                \n",
       "                                                                                \n",
       "                                                                                \n",
       "                                                                                \n",
       "                                                                                "
      ]
     },
     "execution_count": 2,
     "metadata": {},
     "output_type": "execute_result"
    }
   ],
   "source": [
    "header = hdulist[0].header\n",
    "header"
   ]
  },
  {
   "cell_type": "markdown",
   "metadata": {},
   "source": [
    "What about the data?"
   ]
  },
  {
   "cell_type": "code",
   "execution_count": 3,
   "metadata": {},
   "outputs": [
    {
     "data": {
      "text/plain": [
       "array([[38, 43, 35, ..., 45, 43, 41],\n",
       "       [36, 41, 37, ..., 42, 41, 39],\n",
       "       [38, 45, 37, ..., 42, 35, 43],\n",
       "       ...,\n",
       "       [49, 52, 49, ..., 41, 35, 39],\n",
       "       [57, 52, 49, ..., 40, 41, 43],\n",
       "       [53, 57, 57, ..., 39, 35, 45]], dtype=int16)"
      ]
     },
     "execution_count": 3,
     "metadata": {},
     "output_type": "execute_result"
    }
   ],
   "source": [
    "data = hdulist[0].data\n",
    "data"
   ]
  },
  {
   "cell_type": "markdown",
   "metadata": {},
   "source": [
    "It's just a collection of numbers. Do you recollect how these numbers came into existence?"
   ]
  },
  {
   "cell_type": "markdown",
   "metadata": {},
   "source": [
    "## ds9 Demo"
   ]
  },
  {
   "cell_type": "code",
   "execution_count": 2,
   "metadata": {},
   "outputs": [],
   "source": [
    "# Linux Users\n",
    "# !ds9 example.fits\n",
    "\n",
    "# Windows Users\n",
    "# C:\\SAOImageDS9\\ds9.exe example.fits"
   ]
  },
  {
   "cell_type": "markdown",
   "metadata": {},
   "source": [
    "Questions to answer here:\n",
    "\n",
    "- How do a set of numbers become an image on the screen?\n",
    "- What is a color scale? What are advantages of linear vs logarithmic? Which one is more natural to us?\n",
    "\n",
    "Recommended Exercise: Open a FITS image of your choosing using ds9 and get familiar with ds9. Remember, it is not a simple image viewing tool. It is capable of doing much more."
   ]
  },
  {
   "cell_type": "markdown",
   "metadata": {},
   "source": [
    "## World Coordinate Systems\n",
    "\n",
    "Let us open a different image this time."
   ]
  },
  {
   "cell_type": "code",
   "execution_count": 4,
   "metadata": {},
   "outputs": [
    {
     "name": "stdout",
     "output_type": "stream",
     "text": [
      "Filename: example2.fits\n",
      "No.    Name      Ver    Type      Cards   Dimensions   Format\n",
      "  0  PRIMARY       1 PrimaryHDU     107   (777, 777)   int16   \n"
     ]
    }
   ],
   "source": [
    "# Open FITS file as usual.\n",
    "hdulist = fits.open('example2.fits')\n",
    "hdulist.info()"
   ]
  },
  {
   "cell_type": "code",
   "execution_count": 3,
   "metadata": {},
   "outputs": [],
   "source": [
    "# Linux Users\n",
    "# !ds9 example.fits\n",
    "\n",
    "# Windows Users\n",
    "# C:\\SAOImageDS9\\ds9.exe example.fits"
   ]
  },
  {
   "cell_type": "code",
   "execution_count": 7,
   "metadata": {},
   "outputs": [
    {
     "data": {
      "text/plain": [
       "SIMPLE  =                    T / Fits standard                                  \n",
       "BITPIX  =                   16 / Bits per pixel                                 \n",
       "NAXIS   =                    2 / Number of axes                                 \n",
       "NAXIS1  =                  777 / Axis length                                    \n",
       "NAXIS2  =                  777 / Axis length                                    \n",
       "IRAF-TLM= '17:22:05 (14/09/2002)' / Time of last modification                   \n",
       "OBJECT  = 'MESSIER 051'        / Name of the object observed                    \n",
       "EXTEND  =                    T /                                                \n",
       "DATE    = '2002-09-16T18:53:16'/Date of FITS file creation                      \n",
       "ORIGIN  = 'CASB -- STScI     ' /Origin of FITS image                            \n",
       "PLTLABEL= 'E1593             ' /Observatory plate label                         \n",
       "PLATEID = '07VR              ' /GSSS Plate ID                                   \n",
       "REGION  = 'XE173             ' /GSSS Region Name                                \n",
       "DATE-OBS= '08/04/56          ' /UT date of Observation                          \n",
       "UT      = '09:25:00.00       ' /UT time of observation                          \n",
       "EPOCH   =  1.9562687988281E+03 /Epoch of plate                                  \n",
       "PLTRAH  =                   13 /Plate center RA                                 \n",
       "PLTRAM  =                   41 /                                                \n",
       "PLTRAS  =  5.6744040000000E+01 /                                                \n",
       "PLTDECSN= '+                 ' /Plate center Dec                                \n",
       "PLTDECD =                   47 /                                                \n",
       "PLTDECM =                   16 /                                                \n",
       "PLTDECS =  7.0674000000000E-01 /                                                \n",
       "EQUINOX =  2.0000000000000E+03 /Julian Reference frame equinox                  \n",
       "EXPOSURE=  4.5000000000000E+01 /Exposure time minutes                           \n",
       "BANDPASS=                    8 /GSSS Bandpass code                              \n",
       "PLTGRADE=                    1 /Plate grade                                     \n",
       "PLTSCALE=  6.7200000000000E+01 /Plate Scale arcsec per mm                       \n",
       "SITELAT = '+33:24:24.00      ' /Latitude of Observatory                         \n",
       "SITELONG= '-116:51:48.00     ' /Longitude of Observatory                        \n",
       "TELESCOP= 'Palomar 48-inch Schmidt'/Telescope where plate taken                 \n",
       "CNPIX1  =                10731 /X corner  (pixels)                              \n",
       "CNPIX2  =                 6674 /Y corner                                        \n",
       "SCANIMG = 'XE173_07VR_00_00.PIM'/Name of original scan                          \n",
       "SCANNUM =                    0 /Identifies scan of the plate                    \n",
       "DCHOPPED=                    F /Image repaired for chopping effects             \n",
       "DSHEARED=                    F /Image repaired for shearing effects             \n",
       "DSCNDNUM=                    0 /Identifies descendant of plate scan image       \n",
       "XPIXELSZ=  2.5284450000000E+01 /X pixel size microns                            \n",
       "YPIXELSZ=  2.5284450000000E+01 /Y pixel size microns                            \n",
       "PPO1    =  0.0000000000000E+00 /Orientation Coefficients                        \n",
       "PPO2    =  0.0000000000000E+00 /                                                \n",
       "PPO3    =  1.7747471555000E+05 /                                                \n",
       "PPO4    =  0.0000000000000E+00 /                                                \n",
       "PPO5    =  0.0000000000000E+00 /                                                \n",
       "PPO6    =  1.7747471555000E+05 /                                                \n",
       "AMDX1   =  6.7243700944460E+01 /Plate solution x coefficients                   \n",
       "AMDX2   = -6.0295791973430E-02 /                                                \n",
       "AMDX3   = -3.7090880406170E+02 /                                                \n",
       "AMDX4   = -3.6894215251390E-05 /                                                \n",
       "AMDX5   = -1.6846817356060E-05 /                                                \n",
       "AMDX6   = -8.5025603376830E-06 /                                                \n",
       "AMDX7   =  0.0000000000000E+00 /                                                \n",
       "AMDX8   =  2.2065989764410E-06 /                                                \n",
       "AMDX9   = -1.1638730166250E-07 /                                                \n",
       "AMDX10  =  2.3026711982290E-06 /                                                \n",
       "AMDX11  = -2.8146686945500E-08 /                                                \n",
       "AMDX12  =  0.0000000000000E+00 /                                                \n",
       "AMDX13  =  0.0000000000000E+00 /                                                \n",
       "AMDX14  =  0.0000000000000E+00 /                                                \n",
       "AMDX15  =  0.0000000000000E+00 /                                                \n",
       "AMDX16  =  0.0000000000000E+00 /                                                \n",
       "AMDX17  =  0.0000000000000E+00 /                                                \n",
       "AMDX18  =  0.0000000000000E+00 /                                                \n",
       "AMDX19  =  0.0000000000000E+00 /                                                \n",
       "AMDX20  =  0.0000000000000E+00 /                                                \n",
       "AMDY1   =  6.7265123948220E+01 /Plate solution y coefficients                   \n",
       "AMDY2   =  5.2757147936980E-02 /                                                \n",
       "AMDY3   = -5.3755211166020E+01 /                                                \n",
       "AMDY4   = -2.2736061017840E-05 /                                                \n",
       "AMDY5   = -2.1728847976270E-05 /                                                \n",
       "AMDY6   = -3.6493099817580E-06 /                                                \n",
       "AMDY7   =  0.0000000000000E+00 /                                                \n",
       "AMDY8   =  1.8540040988330E-06 /                                                \n",
       "AMDY9   =  3.5058968148450E-08 /                                                \n",
       "AMDY10  =  2.0942928019530E-06 /                                                \n",
       "AMDY11  =  5.6967802373380E-09 /                                                \n",
       "AMDY12  =  0.0000000000000E+00 /                                                \n",
       "AMDY13  =  0.0000000000000E+00 /                                                \n",
       "AMDY14  =  0.0000000000000E+00 /                                                \n",
       "AMDY15  =  0.0000000000000E+00 /                                                \n",
       "AMDY16  =  0.0000000000000E+00 /                                                \n",
       "AMDY17  =  0.0000000000000E+00 /                                                \n",
       "AMDY18  =  0.0000000000000E+00 /                                                \n",
       "AMDY19  =  0.0000000000000E+00 /                                                \n",
       "AMDY20  =  0.0000000000000E+00 /                                                \n",
       "        Based on photographic data of the National Geographic Society -- Palomar\n",
       "        Observatory Sky Survey (NGS-POSS) obtained using the Oschin Telescope on\n",
       "        Palomar Mountain.  The NGS-POSS was funded by a grant from the National \n",
       "        Geographic Society to the California Institute of Technology.  The      \n",
       "        plates were processed into the present compressed digital form with     \n",
       "        their permission.  The Digitized Sky Survey was produced at the Space   \n",
       "        Telescope Science Institute under US Government grant NAG W-2166.       \n",
       "                                                                                \n",
       "        Investigators using these scans are requested to include the above      \n",
       "        acknowledgements in any publications.                                   \n",
       "                                                                                \n",
       "        Copyright (c) 1994, Association of Universities for Research in         \n",
       "        Astronomy, Inc.  All rights reserved.                                   \n",
       "DATAMAX =               14276. /Maximum data value                              \n",
       "DATAMIN =                1937. /Minimum data value                              \n",
       "OBJCTRA = '13 29 55.726      ' /Object Right Ascension (J2000)                  \n",
       "OBJCTDEC= '+47 13 53.44      ' /Object Declination (J2000)                      \n",
       "OBJCTX  =             11119.44 /Object X on plate (pixels)                      \n",
       "OBJCTY  =              7062.27 /Object Y on plate (pixels)                      \n",
       "                                                                                \n",
       "                                                                                "
      ]
     },
     "execution_count": 7,
     "metadata": {},
     "output_type": "execute_result"
    }
   ],
   "source": [
    "hdulist[0].header"
   ]
  },
  {
   "cell_type": "markdown",
   "metadata": {},
   "source": [
    "You will notice that there are some highly complex keywords in this header. Depending on the exact representation system used, these keywords can be different in different FITS files but to a decent image viewer or astronomy analysis software system, these keywords together will be responsible for enabling the conversion between pixel position (X, Y) and (RA, DEC) (or another coordinate system)."
   ]
  },
  {
   "cell_type": "markdown",
   "metadata": {},
   "source": [
    "**Quiz**\n",
    "\n",
    "- How do you imagine one can find how to convert (X, Y) into (RA, DEC)?\n",
    "- Why would you need many systems of representing this conversion from (X, Y) to (RA, DEC)?\n",
    "- Would the choice of representation depend on the size of the image?"
   ]
  },
  {
   "cell_type": "markdown",
   "metadata": {},
   "source": [
    "**Some Material for understanding WCS papers**\n",
    "\n",
    "The original papers on how to represent WCS inside FITS files are compiled at the following page:\n",
    "https://fits.gsfc.nasa.gov/fits_wcs.html\n",
    "\n",
    "Let us now quickly learn some Python approaches to studying the WCS related operations."
   ]
  },
  {
   "cell_type": "code",
   "execution_count": 6,
   "metadata": {},
   "outputs": [
    {
     "name": "stderr",
     "output_type": "stream",
     "text": [
      "WARNING: FITSFixedWarning: 'datfix' made the change 'Set MJD-OBS to 35571.000000 from DATE-OBS.\n",
      "Changed DATE-OBS from '08/04/56          ' to '1956-04-08''. [astropy.wcs.wcs]\n"
     ]
    }
   ],
   "source": [
    "from astropy.wcs import WCS\n",
    "w = WCS(hdulist[0].header)"
   ]
  },
  {
   "cell_type": "code",
   "execution_count": 9,
   "metadata": {},
   "outputs": [
    {
     "data": {
      "text/plain": [
       "[array(202.69037279), array(47.10039636)]"
      ]
     },
     "execution_count": 9,
     "metadata": {},
     "output_type": "execute_result"
    }
   ],
   "source": [
    "w.all_pix2world(100, 100, 1)"
   ]
  },
  {
   "cell_type": "code",
   "execution_count": 11,
   "metadata": {},
   "outputs": [
    {
     "data": {
      "text/plain": [
       "[array(280.00625242), array(438.99978817)]"
      ]
     },
     "execution_count": 11,
     "metadata": {},
     "output_type": "execute_result"
    }
   ],
   "source": [
    "w.all_world2pix(202.55655, 47.257215, 1)"
   ]
  },
  {
   "cell_type": "code",
   "execution_count": 12,
   "metadata": {},
   "outputs": [
    {
     "data": {
      "text/plain": [
       "array([[202.76146626,  47.05535561],\n",
       "       [202.74206475,  47.42164629],\n",
       "       [202.2009436 ,  47.40718098],\n",
       "       [202.22406523,  47.04102483]])"
      ]
     },
     "execution_count": 12,
     "metadata": {},
     "output_type": "execute_result"
    }
   ],
   "source": [
    "w.calc_footprint()"
   ]
  }
 ],
 "metadata": {
  "kernelspec": {
   "display_name": "Python 3",
   "language": "python",
   "name": "python3"
  },
  "language_info": {
   "codemirror_mode": {
    "name": "ipython",
    "version": 3
   },
   "file_extension": ".py",
   "mimetype": "text/x-python",
   "name": "python",
   "nbconvert_exporter": "python",
   "pygments_lexer": "ipython3",
   "version": "3.7.4"
  }
 },
 "nbformat": 4,
 "nbformat_minor": 4
}
